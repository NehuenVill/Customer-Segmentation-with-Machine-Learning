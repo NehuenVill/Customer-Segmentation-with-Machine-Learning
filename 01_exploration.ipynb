{
 "cells": [
  {
   "cell_type": "code",
   "execution_count": 1,
   "metadata": {},
   "outputs": [],
   "source": [
    "import pandas as pd\n",
    "import numpy as np\n",
    "import matplotlib.pyplot as plt\n",
    "import seaborn as sns"
   ]
  },
  {
   "cell_type": "code",
   "execution_count": 29,
   "metadata": {},
   "outputs": [],
   "source": [
    "df = pd.read_excel(\"Online Retail.xlsx\")"
   ]
  },
  {
   "cell_type": "markdown",
   "metadata": {},
   "source": [
    "# Data Preprocessing"
   ]
  },
  {
   "cell_type": "code",
   "execution_count": 3,
   "metadata": {},
   "outputs": [
    {
     "data": {
      "text/html": [
       "<div>\n",
       "<style scoped>\n",
       "    .dataframe tbody tr th:only-of-type {\n",
       "        vertical-align: middle;\n",
       "    }\n",
       "\n",
       "    .dataframe tbody tr th {\n",
       "        vertical-align: top;\n",
       "    }\n",
       "\n",
       "    .dataframe thead th {\n",
       "        text-align: right;\n",
       "    }\n",
       "</style>\n",
       "<table border=\"1\" class=\"dataframe\">\n",
       "  <thead>\n",
       "    <tr style=\"text-align: right;\">\n",
       "      <th></th>\n",
       "      <th>Quantity</th>\n",
       "      <th>UnitPrice</th>\n",
       "      <th>CustomerID</th>\n",
       "    </tr>\n",
       "  </thead>\n",
       "  <tbody>\n",
       "    <tr>\n",
       "      <th>count</th>\n",
       "      <td>541909.000000</td>\n",
       "      <td>541909.000000</td>\n",
       "      <td>406829.000000</td>\n",
       "    </tr>\n",
       "    <tr>\n",
       "      <th>mean</th>\n",
       "      <td>9.552250</td>\n",
       "      <td>4.611114</td>\n",
       "      <td>15287.690570</td>\n",
       "    </tr>\n",
       "    <tr>\n",
       "      <th>std</th>\n",
       "      <td>218.081158</td>\n",
       "      <td>96.759853</td>\n",
       "      <td>1713.600303</td>\n",
       "    </tr>\n",
       "    <tr>\n",
       "      <th>min</th>\n",
       "      <td>-80995.000000</td>\n",
       "      <td>-11062.060000</td>\n",
       "      <td>12346.000000</td>\n",
       "    </tr>\n",
       "    <tr>\n",
       "      <th>25%</th>\n",
       "      <td>1.000000</td>\n",
       "      <td>1.250000</td>\n",
       "      <td>13953.000000</td>\n",
       "    </tr>\n",
       "    <tr>\n",
       "      <th>50%</th>\n",
       "      <td>3.000000</td>\n",
       "      <td>2.080000</td>\n",
       "      <td>15152.000000</td>\n",
       "    </tr>\n",
       "    <tr>\n",
       "      <th>75%</th>\n",
       "      <td>10.000000</td>\n",
       "      <td>4.130000</td>\n",
       "      <td>16791.000000</td>\n",
       "    </tr>\n",
       "    <tr>\n",
       "      <th>max</th>\n",
       "      <td>80995.000000</td>\n",
       "      <td>38970.000000</td>\n",
       "      <td>18287.000000</td>\n",
       "    </tr>\n",
       "  </tbody>\n",
       "</table>\n",
       "</div>"
      ],
      "text/plain": [
       "            Quantity      UnitPrice     CustomerID\n",
       "count  541909.000000  541909.000000  406829.000000\n",
       "mean        9.552250       4.611114   15287.690570\n",
       "std       218.081158      96.759853    1713.600303\n",
       "min    -80995.000000  -11062.060000   12346.000000\n",
       "25%         1.000000       1.250000   13953.000000\n",
       "50%         3.000000       2.080000   15152.000000\n",
       "75%        10.000000       4.130000   16791.000000\n",
       "max     80995.000000   38970.000000   18287.000000"
      ]
     },
     "execution_count": 3,
     "metadata": {},
     "output_type": "execute_result"
    }
   ],
   "source": [
    "df.describe()"
   ]
  },
  {
   "cell_type": "code",
   "execution_count": 4,
   "metadata": {},
   "outputs": [
    {
     "name": "stdout",
     "output_type": "stream",
     "text": [
      "<class 'pandas.core.frame.DataFrame'>\n",
      "RangeIndex: 541909 entries, 0 to 541908\n",
      "Data columns (total 8 columns):\n",
      " #   Column       Non-Null Count   Dtype         \n",
      "---  ------       --------------   -----         \n",
      " 0   InvoiceNo    541909 non-null  object        \n",
      " 1   StockCode    541909 non-null  object        \n",
      " 2   Description  540455 non-null  object        \n",
      " 3   Quantity     541909 non-null  int64         \n",
      " 4   InvoiceDate  541909 non-null  datetime64[ns]\n",
      " 5   UnitPrice    541909 non-null  float64       \n",
      " 6   CustomerID   406829 non-null  float64       \n",
      " 7   Country      541909 non-null  object        \n",
      "dtypes: datetime64[ns](1), float64(2), int64(1), object(4)\n",
      "memory usage: 33.1+ MB\n"
     ]
    }
   ],
   "source": [
    "df.info()"
   ]
  },
  {
   "cell_type": "code",
   "execution_count": 30,
   "metadata": {},
   "outputs": [],
   "source": [
    "df = df.drop([\"Description\"],axis=1)"
   ]
  },
  {
   "cell_type": "code",
   "execution_count": 31,
   "metadata": {},
   "outputs": [],
   "source": [
    "df = df.dropna()"
   ]
  },
  {
   "cell_type": "code",
   "execution_count": 32,
   "metadata": {},
   "outputs": [
    {
     "data": {
      "text/plain": [
       "InvoiceNo      0\n",
       "StockCode      0\n",
       "Quantity       0\n",
       "InvoiceDate    0\n",
       "UnitPrice      0\n",
       "CustomerID     0\n",
       "Country        0\n",
       "dtype: int64"
      ]
     },
     "execution_count": 32,
     "metadata": {},
     "output_type": "execute_result"
    }
   ],
   "source": [
    "df.isnull().sum()"
   ]
  },
  {
   "cell_type": "code",
   "execution_count": 33,
   "metadata": {},
   "outputs": [
    {
     "data": {
      "text/plain": [
       "<AxesSubplot:>"
      ]
     },
     "execution_count": 33,
     "metadata": {},
     "output_type": "execute_result"
    },
    {
     "data": {
      "image/png": "[encoded data removed]",
      "text/plain": [
       "<Figure size 432x288 with 1 Axes>"
      ]
     },
     "metadata": {
      "needs_background": "light"
     },
     "output_type": "display_data"
    }
   ],
   "source": [
    "df[\"UnitPrice\"].plot(kind=\"box\")"
   ]
  },
  {
   "cell_type": "code",
   "execution_count": 34,
   "metadata": {},
   "outputs": [],
   "source": [
    "df_sorted = df[df[\"Quantity\"]!=-1].sort_values(by=[\"UnitPrice\"], ascending=False)"
   ]
  },
  {
   "cell_type": "code",
   "execution_count": 35,
   "metadata": {},
   "outputs": [
    {
     "data": {
      "text/plain": [
       "22"
      ]
     },
     "execution_count": 35,
     "metadata": {},
     "output_type": "execute_result"
    }
   ],
   "source": [
    "len(df_sorted[df_sorted[\"UnitPrice\"]>1000])"
   ]
  },
  {
   "cell_type": "code",
   "execution_count": 36,
   "metadata": {},
   "outputs": [
    {
     "name": "stderr",
     "output_type": "stream",
     "text": [
      "C:\\Users\\nehue\\AppData\\Local\\Temp\\ipykernel_3320\\41533685.py:1: UserWarning: Boolean Series key will be reindexed to match DataFrame index.\n",
      "  df = df_sorted[df_sorted[\"UnitPrice\"]<1000][df_sorted[\"Quantity\"]>0][df[\"UnitPrice\"]>0]\n"
     ]
    }
   ],
   "source": [
    "df = df_sorted[df_sorted[\"UnitPrice\"]<1000][df_sorted[\"Quantity\"]>0][df[\"UnitPrice\"]>0]"
   ]
  },
  {
   "cell_type": "code",
   "execution_count": 37,
   "metadata": {},
   "outputs": [],
   "source": [
    "import re"
   ]
  },
  {
   "cell_type": "code",
   "execution_count": 38,
   "metadata": {},
   "outputs": [],
   "source": [
    "stc = df[\"StockCode\"].unique()\n",
    "\n",
    "stock_with_words = [stockcode for stockcode in stc if type(stockcode)!=int]\n",
    "stock_with_words = [sc for sc in stock_with_words if not any(char.isdigit() for char in sc)]"
   ]
  },
  {
   "cell_type": "code",
   "execution_count": 39,
   "metadata": {},
   "outputs": [
    {
     "data": {
      "text/plain": [
       "['DOT', 'M', 'POST', 'BANK CHARGES', 'PADS']"
      ]
     },
     "execution_count": 39,
     "metadata": {},
     "output_type": "execute_result"
    }
   ],
   "source": [
    "stock_with_words"
   ]
  },
  {
   "cell_type": "code",
   "execution_count": 40,
   "metadata": {},
   "outputs": [],
   "source": [
    "for word in stock_with_words:\n",
    "\n",
    "    df = df[df[\"StockCode\"]!=word]"
   ]
  },
  {
   "cell_type": "code",
   "execution_count": 41,
   "metadata": {},
   "outputs": [
    {
     "data": {
      "text/plain": [
       "<AxesSubplot:>"
      ]
     },
     "execution_count": 41,
     "metadata": {},
     "output_type": "execute_result"
    },
    {
     "data": {
      "image/png": "[encoded data removed]",
      "text/plain": [
       "<Figure size 432x288 with 1 Axes>"
      ]
     },
     "metadata": {
      "needs_background": "light"
     },
     "output_type": "display_data"
    }
   ],
   "source": [
    "df[\"Quantity\"].plot(kind=\"box\")"
   ]
  },
  {
   "cell_type": "code",
   "execution_count": 42,
   "metadata": {},
   "outputs": [
    {
     "data": {
      "text/html": [
       "<div>\n",
       "<style scoped>\n",
       "    .dataframe tbody tr th:only-of-type {\n",
       "        vertical-align: middle;\n",
       "    }\n",
       "\n",
       "    .dataframe tbody tr th {\n",
       "        vertical-align: top;\n",
       "    }\n",
       "\n",
       "    .dataframe thead th {\n",
       "        text-align: right;\n",
       "    }\n",
       "</style>\n",
       "<table border=\"1\" class=\"dataframe\">\n",
       "  <thead>\n",
       "    <tr style=\"text-align: right;\">\n",
       "      <th></th>\n",
       "      <th>InvoiceNo</th>\n",
       "      <th>StockCode</th>\n",
       "      <th>Quantity</th>\n",
       "      <th>InvoiceDate</th>\n",
       "      <th>UnitPrice</th>\n",
       "      <th>CustomerID</th>\n",
       "      <th>Country</th>\n",
       "    </tr>\n",
       "  </thead>\n",
       "  <tbody>\n",
       "    <tr>\n",
       "      <th>540421</th>\n",
       "      <td>581483</td>\n",
       "      <td>23843</td>\n",
       "      <td>80995</td>\n",
       "      <td>2011-12-09 09:15:00</td>\n",
       "      <td>2.08</td>\n",
       "      <td>16446.0</td>\n",
       "      <td>United Kingdom</td>\n",
       "    </tr>\n",
       "    <tr>\n",
       "      <th>61619</th>\n",
       "      <td>541431</td>\n",
       "      <td>23166</td>\n",
       "      <td>74215</td>\n",
       "      <td>2011-01-18 10:01:00</td>\n",
       "      <td>1.04</td>\n",
       "      <td>12346.0</td>\n",
       "      <td>United Kingdom</td>\n",
       "    </tr>\n",
       "  </tbody>\n",
       "</table>\n",
       "</div>"
      ],
      "text/plain": [
       "       InvoiceNo StockCode  Quantity         InvoiceDate  UnitPrice  \\\n",
       "540421    581483     23843     80995 2011-12-09 09:15:00       2.08   \n",
       "61619     541431     23166     74215 2011-01-18 10:01:00       1.04   \n",
       "\n",
       "        CustomerID         Country  \n",
       "540421     16446.0  United Kingdom  \n",
       "61619      12346.0  United Kingdom  "
      ]
     },
     "execution_count": 42,
     "metadata": {},
     "output_type": "execute_result"
    }
   ],
   "source": [
    "df[df[\"Quantity\"]>10000]"
   ]
  },
  {
   "cell_type": "code",
   "execution_count": 43,
   "metadata": {},
   "outputs": [],
   "source": [
    "df = df[df[\"Quantity\"]<3000]\n"
   ]
  },
  {
   "cell_type": "markdown",
   "metadata": {},
   "source": [
    "# Feature selection and engineering"
   ]
  },
  {
   "cell_type": "markdown",
   "metadata": {},
   "source": [
    "- Create more features (based on each customer): average_purchase_quantity, average_purchase_expense, Purchase_frequency, Total_cancelled_orders, time_as_buyer, lifetime_expenses, unique_items_bought\n",
    "\n",
    "- Encode categorical features: Country\n",
    "\n"
   ]
  },
  {
   "cell_type": "code",
   "execution_count": 45,
   "metadata": {},
   "outputs": [],
   "source": [
    "# average_purchase_quantity\n",
    "\n",
    "df['average_purchase_quantity'] = df.groupby('CustomerID')['UnitPrice'].transform('mean')"
   ]
  },
  {
   "cell_type": "code",
   "execution_count": 46,
   "metadata": {},
   "outputs": [],
   "source": [
    "# average_purchase_expense\n",
    "\n",
    "df['average_purchase_expense'] = df.groupby('CustomerID')['Quantity'].transform('mean')"
   ]
  },
  {
   "cell_type": "code",
   "execution_count": 47,
   "metadata": {},
   "outputs": [],
   "source": [
    "# Purchase_frequency\n",
    "\n",
    "purchase_dates = df.groupby('CustomerID')['InvoiceDate'].agg(['min', 'max', \"count\"])\n",
    "\n",
    "purchase_dates['Purchase_frequency'] = (purchase_dates['max'] - purchase_dates['min']).dt.days / purchase_dates[\"count\"]\n",
    "\n",
    "df = pd.merge(df, purchase_dates['Purchase_frequency'], on='CustomerID')"
   ]
  },
  {
   "cell_type": "code",
   "execution_count": 117,
   "metadata": {},
   "outputs": [],
   "source": [
    "# Total_cancelled_orders\n",
    "\n",
    "cancelled_orders = 0\n",
    "\n",
    "df[\"InvoiceNo\"] = df[\"InvoiceNo\"].astype(str)\n",
    "\n",
    "customers = df.groupby(\"CustomerID\")"
   ]
  },
  {
   "cell_type": "code",
   "execution_count": 123,
   "metadata": {},
   "outputs": [],
   "source": [
    "for i in df[\"InvoiceNo\"].unique():\n",
    "    if \"C\" in i or \"c\" in i:\n",
    "\n",
    "        print(i)"
   ]
  },
  {
   "cell_type": "code",
   "execution_count": 118,
   "metadata": {},
   "outputs": [],
   "source": [
    "cancelled_orders = customers.apply(lambda group: group[group['InvoiceNo'].str.contains('C', case=False)])"
   ]
  },
  {
   "cell_type": "code",
   "execution_count": 119,
   "metadata": {},
   "outputs": [
    {
     "data": {
      "text/html": [
       "<div>\n",
       "<style scoped>\n",
       "    .dataframe tbody tr th:only-of-type {\n",
       "        vertical-align: middle;\n",
       "    }\n",
       "\n",
       "    .dataframe tbody tr th {\n",
       "        vertical-align: top;\n",
       "    }\n",
       "\n",
       "    .dataframe thead th {\n",
       "        text-align: right;\n",
       "    }\n",
       "</style>\n",
       "<table border=\"1\" class=\"dataframe\">\n",
       "  <thead>\n",
       "    <tr style=\"text-align: right;\">\n",
       "      <th></th>\n",
       "      <th></th>\n",
       "      <th>InvoiceNo</th>\n",
       "      <th>StockCode</th>\n",
       "      <th>Quantity</th>\n",
       "      <th>InvoiceDate</th>\n",
       "      <th>UnitPrice</th>\n",
       "      <th>CustomerID</th>\n",
       "      <th>Country</th>\n",
       "      <th>Purchase_expense</th>\n",
       "      <th>average_purchase_quantity</th>\n",
       "      <th>average_purchase_expense</th>\n",
       "      <th>Purchase_frequency</th>\n",
       "    </tr>\n",
       "    <tr>\n",
       "      <th>CustomerID</th>\n",
       "      <th></th>\n",
       "      <th></th>\n",
       "      <th></th>\n",
       "      <th></th>\n",
       "      <th></th>\n",
       "      <th></th>\n",
       "      <th></th>\n",
       "      <th></th>\n",
       "      <th></th>\n",
       "      <th></th>\n",
       "      <th></th>\n",
       "      <th></th>\n",
       "    </tr>\n",
       "  </thead>\n",
       "  <tbody>\n",
       "  </tbody>\n",
       "</table>\n",
       "</div>"
      ],
      "text/plain": [
       "Empty DataFrame\n",
       "Columns: [InvoiceNo, StockCode, Quantity, InvoiceDate, UnitPrice, CustomerID, Country, Purchase_expense, average_purchase_quantity, average_purchase_expense, Purchase_frequency]\n",
       "Index: []"
      ]
     },
     "execution_count": 119,
     "metadata": {},
     "output_type": "execute_result"
    }
   ],
   "source": [
    "cancelled_orders"
   ]
  },
  {
   "cell_type": "code",
   "execution_count": 49,
   "metadata": {},
   "outputs": [
    {
     "name": "stdout",
     "output_type": "stream",
     "text": [
      "                           Quantity  UnitPrice  CustomerID  Purchase_expense  \\\n",
      "Quantity                   1.000000  -0.084959   -0.024696          0.495175   \n",
      "UnitPrice                 -0.084959   1.000000   -0.010902          0.226755   \n",
      "CustomerID                -0.024696  -0.010902    1.000000         -0.010385   \n",
      "Purchase_expense           0.495175   0.226755   -0.010385          1.000000   \n",
      "average_purchase_quantity -0.030489   0.410673   -0.026545          0.290137   \n",
      "average_purchase_expense   0.650676  -0.019243   -0.037954          0.404558   \n",
      "Purchase_frequency         0.120243   0.028683   -0.005094          0.074188   \n",
      "\n",
      "                           average_purchase_quantity  \\\n",
      "Quantity                                   -0.030489   \n",
      "UnitPrice                                   0.410673   \n",
      "CustomerID                                 -0.026545   \n",
      "Purchase_expense                            0.290137   \n",
      "average_purchase_quantity                   1.000000   \n",
      "average_purchase_expense                   -0.046858   \n",
      "Purchase_frequency                          0.069845   \n",
      "\n",
      "                           average_purchase_expense  Purchase_frequency  \n",
      "Quantity                                   0.650676            0.120243  \n",
      "UnitPrice                                 -0.019243            0.028683  \n",
      "CustomerID                                -0.037954           -0.005094  \n",
      "Purchase_expense                           0.404558            0.074188  \n",
      "average_purchase_quantity                 -0.046858            0.069845  \n",
      "average_purchase_expense                   1.000000            0.184797  \n",
      "Purchase_frequency                         0.184797            1.000000  \n"
     ]
    },
    {
     "name": "stderr",
     "output_type": "stream",
     "text": [
      "C:\\Users\\nehue\\AppData\\Local\\Temp\\ipykernel_3320\\2020863294.py:1: FutureWarning: The default value of numeric_only in DataFrame.corr is deprecated. In a future version, it will default to False. Select only valid columns or specify the value of numeric_only to silence this warning.\n",
      "  correlation_matrix = df.corr()\n"
     ]
    }
   ],
   "source": [
    "correlation_matrix = df.corr()\n",
    "print(correlation_matrix)"
   ]
  },
  {
   "cell_type": "code",
   "execution_count": 50,
   "metadata": {},
   "outputs": [
    {
     "data": {
      "image/png": "[encoded data removed]",
      "text/plain": [
       "<Figure size 720x576 with 2 Axes>"
      ]
     },
     "metadata": {
      "needs_background": "light"
     },
     "output_type": "display_data"
    }
   ],
   "source": [
    "plt.figure(figsize=(10, 8))\n",
    "sns.heatmap(correlation_matrix, annot=True, cmap='coolwarm', linewidths=0.5)\n",
    "plt.show()"
   ]
  },
  {
   "cell_type": "code",
   "execution_count": 51,
   "metadata": {},
   "outputs": [
    {
     "data": {
      "text/plain": [
       "3659"
      ]
     },
     "execution_count": 51,
     "metadata": {},
     "output_type": "execute_result"
    }
   ],
   "source": [
    "len(df.StockCode.unique())"
   ]
  },
  {
   "cell_type": "code",
   "execution_count": 52,
   "metadata": {},
   "outputs": [],
   "source": [
    "df_encoded = pd.get_dummies(df, columns=['Country'])"
   ]
  },
  {
   "cell_type": "code",
   "execution_count": 53,
   "metadata": {},
   "outputs": [
    {
     "data": {
      "text/html": [
       "<div>\n",
       "<style scoped>\n",
       "    .dataframe tbody tr th:only-of-type {\n",
       "        vertical-align: middle;\n",
       "    }\n",
       "\n",
       "    .dataframe tbody tr th {\n",
       "        vertical-align: top;\n",
       "    }\n",
       "\n",
       "    .dataframe thead th {\n",
       "        text-align: right;\n",
       "    }\n",
       "</style>\n",
       "<table border=\"1\" class=\"dataframe\">\n",
       "  <thead>\n",
       "    <tr style=\"text-align: right;\">\n",
       "      <th></th>\n",
       "      <th>InvoiceNo</th>\n",
       "      <th>StockCode</th>\n",
       "      <th>Quantity</th>\n",
       "      <th>InvoiceDate</th>\n",
       "      <th>UnitPrice</th>\n",
       "      <th>CustomerID</th>\n",
       "      <th>Purchase_expense</th>\n",
       "      <th>average_purchase_quantity</th>\n",
       "      <th>average_purchase_expense</th>\n",
       "      <th>Purchase_frequency</th>\n",
       "      <th>...</th>\n",
       "      <th>Country_RSA</th>\n",
       "      <th>Country_Saudi Arabia</th>\n",
       "      <th>Country_Singapore</th>\n",
       "      <th>Country_Spain</th>\n",
       "      <th>Country_Sweden</th>\n",
       "      <th>Country_Switzerland</th>\n",
       "      <th>Country_USA</th>\n",
       "      <th>Country_United Arab Emirates</th>\n",
       "      <th>Country_United Kingdom</th>\n",
       "      <th>Country_Unspecified</th>\n",
       "    </tr>\n",
       "  </thead>\n",
       "  <tbody>\n",
       "    <tr>\n",
       "      <th>0</th>\n",
       "      <td>556444</td>\n",
       "      <td>22502</td>\n",
       "      <td>60</td>\n",
       "      <td>2011-06-10 15:28:00</td>\n",
       "      <td>649.50</td>\n",
       "      <td>15098.0</td>\n",
       "      <td>38970.00</td>\n",
       "      <td>434.650000</td>\n",
       "      <td>40.333333</td>\n",
       "      <td>0.000000</td>\n",
       "      <td>...</td>\n",
       "      <td>0</td>\n",
       "      <td>0</td>\n",
       "      <td>0</td>\n",
       "      <td>0</td>\n",
       "      <td>0</td>\n",
       "      <td>0</td>\n",
       "      <td>0</td>\n",
       "      <td>0</td>\n",
       "      <td>1</td>\n",
       "      <td>0</td>\n",
       "    </tr>\n",
       "    <tr>\n",
       "      <th>1</th>\n",
       "      <td>556446</td>\n",
       "      <td>22502</td>\n",
       "      <td>1</td>\n",
       "      <td>2011-06-10 15:33:00</td>\n",
       "      <td>649.50</td>\n",
       "      <td>15098.0</td>\n",
       "      <td>649.50</td>\n",
       "      <td>434.650000</td>\n",
       "      <td>40.333333</td>\n",
       "      <td>0.000000</td>\n",
       "      <td>...</td>\n",
       "      <td>0</td>\n",
       "      <td>0</td>\n",
       "      <td>0</td>\n",
       "      <td>0</td>\n",
       "      <td>0</td>\n",
       "      <td>0</td>\n",
       "      <td>0</td>\n",
       "      <td>0</td>\n",
       "      <td>1</td>\n",
       "      <td>0</td>\n",
       "    </tr>\n",
       "    <tr>\n",
       "      <th>2</th>\n",
       "      <td>556442</td>\n",
       "      <td>22502</td>\n",
       "      <td>60</td>\n",
       "      <td>2011-06-10 15:22:00</td>\n",
       "      <td>4.95</td>\n",
       "      <td>15098.0</td>\n",
       "      <td>297.00</td>\n",
       "      <td>434.650000</td>\n",
       "      <td>40.333333</td>\n",
       "      <td>0.000000</td>\n",
       "      <td>...</td>\n",
       "      <td>0</td>\n",
       "      <td>0</td>\n",
       "      <td>0</td>\n",
       "      <td>0</td>\n",
       "      <td>0</td>\n",
       "      <td>0</td>\n",
       "      <td>0</td>\n",
       "      <td>0</td>\n",
       "      <td>1</td>\n",
       "      <td>0</td>\n",
       "    </tr>\n",
       "    <tr>\n",
       "      <th>3</th>\n",
       "      <td>543253</td>\n",
       "      <td>22655</td>\n",
       "      <td>1</td>\n",
       "      <td>2011-02-04 15:32:00</td>\n",
       "      <td>295.00</td>\n",
       "      <td>14842.0</td>\n",
       "      <td>295.00</td>\n",
       "      <td>5.326276</td>\n",
       "      <td>8.041379</td>\n",
       "      <td>1.820690</td>\n",
       "      <td>...</td>\n",
       "      <td>0</td>\n",
       "      <td>0</td>\n",
       "      <td>0</td>\n",
       "      <td>0</td>\n",
       "      <td>0</td>\n",
       "      <td>0</td>\n",
       "      <td>0</td>\n",
       "      <td>0</td>\n",
       "      <td>1</td>\n",
       "      <td>0</td>\n",
       "    </tr>\n",
       "    <tr>\n",
       "      <th>4</th>\n",
       "      <td>573020</td>\n",
       "      <td>22424</td>\n",
       "      <td>1</td>\n",
       "      <td>2011-10-27 12:37:00</td>\n",
       "      <td>12.75</td>\n",
       "      <td>14842.0</td>\n",
       "      <td>12.75</td>\n",
       "      <td>5.326276</td>\n",
       "      <td>8.041379</td>\n",
       "      <td>1.820690</td>\n",
       "      <td>...</td>\n",
       "      <td>0</td>\n",
       "      <td>0</td>\n",
       "      <td>0</td>\n",
       "      <td>0</td>\n",
       "      <td>0</td>\n",
       "      <td>0</td>\n",
       "      <td>0</td>\n",
       "      <td>0</td>\n",
       "      <td>1</td>\n",
       "      <td>0</td>\n",
       "    </tr>\n",
       "    <tr>\n",
       "      <th>...</th>\n",
       "      <td>...</td>\n",
       "      <td>...</td>\n",
       "      <td>...</td>\n",
       "      <td>...</td>\n",
       "      <td>...</td>\n",
       "      <td>...</td>\n",
       "      <td>...</td>\n",
       "      <td>...</td>\n",
       "      <td>...</td>\n",
       "      <td>...</td>\n",
       "      <td>...</td>\n",
       "      <td>...</td>\n",
       "      <td>...</td>\n",
       "      <td>...</td>\n",
       "      <td>...</td>\n",
       "      <td>...</td>\n",
       "      <td>...</td>\n",
       "      <td>...</td>\n",
       "      <td>...</td>\n",
       "      <td>...</td>\n",
       "      <td>...</td>\n",
       "    </tr>\n",
       "    <tr>\n",
       "      <th>396456</th>\n",
       "      <td>568666</td>\n",
       "      <td>17003</td>\n",
       "      <td>720</td>\n",
       "      <td>2011-09-28 12:54:00</td>\n",
       "      <td>0.16</td>\n",
       "      <td>14609.0</td>\n",
       "      <td>115.20</td>\n",
       "      <td>0.143333</td>\n",
       "      <td>1280.000000</td>\n",
       "      <td>74.666667</td>\n",
       "      <td>...</td>\n",
       "      <td>0</td>\n",
       "      <td>0</td>\n",
       "      <td>0</td>\n",
       "      <td>0</td>\n",
       "      <td>0</td>\n",
       "      <td>0</td>\n",
       "      <td>0</td>\n",
       "      <td>0</td>\n",
       "      <td>1</td>\n",
       "      <td>0</td>\n",
       "    </tr>\n",
       "    <tr>\n",
       "      <th>396457</th>\n",
       "      <td>544152</td>\n",
       "      <td>18007</td>\n",
       "      <td>2400</td>\n",
       "      <td>2011-02-16 12:10:00</td>\n",
       "      <td>0.06</td>\n",
       "      <td>14609.0</td>\n",
       "      <td>144.00</td>\n",
       "      <td>0.143333</td>\n",
       "      <td>1280.000000</td>\n",
       "      <td>74.666667</td>\n",
       "      <td>...</td>\n",
       "      <td>0</td>\n",
       "      <td>0</td>\n",
       "      <td>0</td>\n",
       "      <td>0</td>\n",
       "      <td>0</td>\n",
       "      <td>0</td>\n",
       "      <td>0</td>\n",
       "      <td>0</td>\n",
       "      <td>1</td>\n",
       "      <td>0</td>\n",
       "    </tr>\n",
       "    <tr>\n",
       "      <th>396458</th>\n",
       "      <td>560582</td>\n",
       "      <td>17096</td>\n",
       "      <td>291</td>\n",
       "      <td>2011-07-19 15:30:00</td>\n",
       "      <td>0.17</td>\n",
       "      <td>12875.0</td>\n",
       "      <td>49.47</td>\n",
       "      <td>0.170000</td>\n",
       "      <td>1009.500000</td>\n",
       "      <td>109.500000</td>\n",
       "      <td>...</td>\n",
       "      <td>0</td>\n",
       "      <td>0</td>\n",
       "      <td>0</td>\n",
       "      <td>0</td>\n",
       "      <td>0</td>\n",
       "      <td>0</td>\n",
       "      <td>0</td>\n",
       "      <td>0</td>\n",
       "      <td>1</td>\n",
       "      <td>0</td>\n",
       "    </tr>\n",
       "    <tr>\n",
       "      <th>396459</th>\n",
       "      <td>538420</td>\n",
       "      <td>17096</td>\n",
       "      <td>1728</td>\n",
       "      <td>2010-12-12 12:03:00</td>\n",
       "      <td>0.17</td>\n",
       "      <td>12875.0</td>\n",
       "      <td>293.76</td>\n",
       "      <td>0.170000</td>\n",
       "      <td>1009.500000</td>\n",
       "      <td>109.500000</td>\n",
       "      <td>...</td>\n",
       "      <td>0</td>\n",
       "      <td>0</td>\n",
       "      <td>0</td>\n",
       "      <td>0</td>\n",
       "      <td>0</td>\n",
       "      <td>0</td>\n",
       "      <td>0</td>\n",
       "      <td>0</td>\n",
       "      <td>1</td>\n",
       "      <td>0</td>\n",
       "    </tr>\n",
       "    <tr>\n",
       "      <th>396460</th>\n",
       "      <td>561638</td>\n",
       "      <td>84568</td>\n",
       "      <td>1440</td>\n",
       "      <td>2011-07-28 14:54:00</td>\n",
       "      <td>0.17</td>\n",
       "      <td>15118.0</td>\n",
       "      <td>244.80</td>\n",
       "      <td>0.170000</td>\n",
       "      <td>1440.000000</td>\n",
       "      <td>0.000000</td>\n",
       "      <td>...</td>\n",
       "      <td>0</td>\n",
       "      <td>0</td>\n",
       "      <td>0</td>\n",
       "      <td>0</td>\n",
       "      <td>0</td>\n",
       "      <td>0</td>\n",
       "      <td>0</td>\n",
       "      <td>0</td>\n",
       "      <td>1</td>\n",
       "      <td>0</td>\n",
       "    </tr>\n",
       "  </tbody>\n",
       "</table>\n",
       "<p>396461 rows × 47 columns</p>\n",
       "</div>"
      ],
      "text/plain": [
       "       InvoiceNo StockCode  Quantity         InvoiceDate  UnitPrice  \\\n",
       "0         556444     22502        60 2011-06-10 15:28:00     649.50   \n",
       "1         556446     22502         1 2011-06-10 15:33:00     649.50   \n",
       "2         556442     22502        60 2011-06-10 15:22:00       4.95   \n",
       "3         543253     22655         1 2011-02-04 15:32:00     295.00   \n",
       "4         573020     22424         1 2011-10-27 12:37:00      12.75   \n",
       "...          ...       ...       ...                 ...        ...   \n",
       "396456    568666     17003       720 2011-09-28 12:54:00       0.16   \n",
       "396457    544152     18007      2400 2011-02-16 12:10:00       0.06   \n",
       "396458    560582     17096       291 2011-07-19 15:30:00       0.17   \n",
       "396459    538420     17096      1728 2010-12-12 12:03:00       0.17   \n",
       "396460    561638     84568      1440 2011-07-28 14:54:00       0.17   \n",
       "\n",
       "        CustomerID  Purchase_expense  average_purchase_quantity  \\\n",
       "0          15098.0          38970.00                 434.650000   \n",
       "1          15098.0            649.50                 434.650000   \n",
       "2          15098.0            297.00                 434.650000   \n",
       "3          14842.0            295.00                   5.326276   \n",
       "4          14842.0             12.75                   5.326276   \n",
       "...            ...               ...                        ...   \n",
       "396456     14609.0            115.20                   0.143333   \n",
       "396457     14609.0            144.00                   0.143333   \n",
       "396458     12875.0             49.47                   0.170000   \n",
       "396459     12875.0            293.76                   0.170000   \n",
       "396460     15118.0            244.80                   0.170000   \n",
       "\n",
       "        average_purchase_expense  Purchase_frequency  ...  Country_RSA  \\\n",
       "0                      40.333333            0.000000  ...            0   \n",
       "1                      40.333333            0.000000  ...            0   \n",
       "2                      40.333333            0.000000  ...            0   \n",
       "3                       8.041379            1.820690  ...            0   \n",
       "4                       8.041379            1.820690  ...            0   \n",
       "...                          ...                 ...  ...          ...   \n",
       "396456               1280.000000           74.666667  ...            0   \n",
       "396457               1280.000000           74.666667  ...            0   \n",
       "396458               1009.500000          109.500000  ...            0   \n",
       "396459               1009.500000          109.500000  ...            0   \n",
       "396460               1440.000000            0.000000  ...            0   \n",
       "\n",
       "        Country_Saudi Arabia  Country_Singapore  Country_Spain  \\\n",
       "0                          0                  0              0   \n",
       "1                          0                  0              0   \n",
       "2                          0                  0              0   \n",
       "3                          0                  0              0   \n",
       "4                          0                  0              0   \n",
       "...                      ...                ...            ...   \n",
       "396456                     0                  0              0   \n",
       "396457                     0                  0              0   \n",
       "396458                     0                  0              0   \n",
       "396459                     0                  0              0   \n",
       "396460                     0                  0              0   \n",
       "\n",
       "        Country_Sweden  Country_Switzerland  Country_USA  \\\n",
       "0                    0                    0            0   \n",
       "1                    0                    0            0   \n",
       "2                    0                    0            0   \n",
       "3                    0                    0            0   \n",
       "4                    0                    0            0   \n",
       "...                ...                  ...          ...   \n",
       "396456               0                    0            0   \n",
       "396457               0                    0            0   \n",
       "396458               0                    0            0   \n",
       "396459               0                    0            0   \n",
       "396460               0                    0            0   \n",
       "\n",
       "        Country_United Arab Emirates  Country_United Kingdom  \\\n",
       "0                                  0                       1   \n",
       "1                                  0                       1   \n",
       "2                                  0                       1   \n",
       "3                                  0                       1   \n",
       "4                                  0                       1   \n",
       "...                              ...                     ...   \n",
       "396456                             0                       1   \n",
       "396457                             0                       1   \n",
       "396458                             0                       1   \n",
       "396459                             0                       1   \n",
       "396460                             0                       1   \n",
       "\n",
       "        Country_Unspecified  \n",
       "0                         0  \n",
       "1                         0  \n",
       "2                         0  \n",
       "3                         0  \n",
       "4                         0  \n",
       "...                     ...  \n",
       "396456                    0  \n",
       "396457                    0  \n",
       "396458                    0  \n",
       "396459                    0  \n",
       "396460                    0  \n",
       "\n",
       "[396461 rows x 47 columns]"
      ]
     },
     "execution_count": 53,
     "metadata": {},
     "output_type": "execute_result"
    }
   ],
   "source": [
    "df_encoded"
   ]
  },
  {
   "cell_type": "code",
   "execution_count": null,
   "metadata": {},
   "outputs": [],
   "source": [
    "# Leaving out unecessary features:\n",
    "\n"
   ]
  },
  {
   "cell_type": "markdown",
   "metadata": {},
   "source": [
    "# Feature scaling"
   ]
  },
  {
   "cell_type": "code",
   "execution_count": 54,
   "metadata": {},
   "outputs": [],
   "source": [
    "from sklearn.preprocessing import StandardScaler"
   ]
  },
  {
   "cell_type": "code",
   "execution_count": 55,
   "metadata": {},
   "outputs": [
    {
     "ename": "ValueError",
     "evalue": "could not convert string to float: '84970S'",
     "output_type": "error",
     "traceback": [
      "\u001b[1;31m---------------------------------------------------------------------------\u001b[0m",
      "\u001b[1;31mValueError\u001b[0m                                Traceback (most recent call last)",
      "\u001b[1;32mc:\\Users\\nehue\\Documents\\programas_de_python\\machine_learning\\my_projects\\customer_segmentation\\01_exploration.ipynb Cell 34'\u001b[0m in \u001b[0;36m<cell line: 2>\u001b[1;34m()\u001b[0m\n\u001b[0;32m      <a href='vscode-notebook-cell:/c%3A/Users/nehue/Documents/programas_de_python/machine_learning/my_projects/customer_segmentation/01_exploration.ipynb#ch0000033?line=0'>1</a>\u001b[0m scaler \u001b[39m=\u001b[39m StandardScaler()\n\u001b[1;32m----> <a href='vscode-notebook-cell:/c%3A/Users/nehue/Documents/programas_de_python/machine_learning/my_projects/customer_segmentation/01_exploration.ipynb#ch0000033?line=1'>2</a>\u001b[0m df_scaled \u001b[39m=\u001b[39m scaler\u001b[39m.\u001b[39;49mfit_transform(df)\n",
      "File \u001b[1;32m~\\AppData\\Local\\Programs\\Python\\Python39\\lib\\site-packages\\sklearn\\base.py:852\u001b[0m, in \u001b[0;36mTransformerMixin.fit_transform\u001b[1;34m(self, X, y, **fit_params)\u001b[0m\n\u001b[0;32m    <a href='file:///c%3A/Users/nehue/AppData/Local/Programs/Python/Python39/lib/site-packages/sklearn/base.py?line=847'>848</a>\u001b[0m \u001b[39m# non-optimized default implementation; override when a better\u001b[39;00m\n\u001b[0;32m    <a href='file:///c%3A/Users/nehue/AppData/Local/Programs/Python/Python39/lib/site-packages/sklearn/base.py?line=848'>849</a>\u001b[0m \u001b[39m# method is possible for a given clustering algorithm\u001b[39;00m\n\u001b[0;32m    <a href='file:///c%3A/Users/nehue/AppData/Local/Programs/Python/Python39/lib/site-packages/sklearn/base.py?line=849'>850</a>\u001b[0m \u001b[39mif\u001b[39;00m y \u001b[39mis\u001b[39;00m \u001b[39mNone\u001b[39;00m:\n\u001b[0;32m    <a href='file:///c%3A/Users/nehue/AppData/Local/Programs/Python/Python39/lib/site-packages/sklearn/base.py?line=850'>851</a>\u001b[0m     \u001b[39m# fit method of arity 1 (unsupervised transformation)\u001b[39;00m\n\u001b[1;32m--> <a href='file:///c%3A/Users/nehue/AppData/Local/Programs/Python/Python39/lib/site-packages/sklearn/base.py?line=851'>852</a>\u001b[0m     \u001b[39mreturn\u001b[39;00m \u001b[39mself\u001b[39m\u001b[39m.\u001b[39mfit(X, \u001b[39m*\u001b[39m\u001b[39m*\u001b[39mfit_params)\u001b[39m.\u001b[39mtransform(X)\n\u001b[0;32m    <a href='file:///c%3A/Users/nehue/AppData/Local/Programs/Python/Python39/lib/site-packages/sklearn/base.py?line=852'>853</a>\u001b[0m \u001b[39melse\u001b[39;00m:\n\u001b[0;32m    <a href='file:///c%3A/Users/nehue/AppData/Local/Programs/Python/Python39/lib/site-packages/sklearn/base.py?line=853'>854</a>\u001b[0m     \u001b[39m# fit method of arity 2 (supervised transformation)\u001b[39;00m\n\u001b[0;32m    <a href='file:///c%3A/Users/nehue/AppData/Local/Programs/Python/Python39/lib/site-packages/sklearn/base.py?line=854'>855</a>\u001b[0m     \u001b[39mreturn\u001b[39;00m \u001b[39mself\u001b[39m\u001b[39m.\u001b[39mfit(X, y, \u001b[39m*\u001b[39m\u001b[39m*\u001b[39mfit_params)\u001b[39m.\u001b[39mtransform(X)\n",
      "File \u001b[1;32m~\\AppData\\Local\\Programs\\Python\\Python39\\lib\\site-packages\\sklearn\\preprocessing\\_data.py:806\u001b[0m, in \u001b[0;36mStandardScaler.fit\u001b[1;34m(self, X, y, sample_weight)\u001b[0m\n\u001b[0;32m    <a href='file:///c%3A/Users/nehue/AppData/Local/Programs/Python/Python39/lib/site-packages/sklearn/preprocessing/_data.py?line=803'>804</a>\u001b[0m \u001b[39m# Reset internal state before fitting\u001b[39;00m\n\u001b[0;32m    <a href='file:///c%3A/Users/nehue/AppData/Local/Programs/Python/Python39/lib/site-packages/sklearn/preprocessing/_data.py?line=804'>805</a>\u001b[0m \u001b[39mself\u001b[39m\u001b[39m.\u001b[39m_reset()\n\u001b[1;32m--> <a href='file:///c%3A/Users/nehue/AppData/Local/Programs/Python/Python39/lib/site-packages/sklearn/preprocessing/_data.py?line=805'>806</a>\u001b[0m \u001b[39mreturn\u001b[39;00m \u001b[39mself\u001b[39;49m\u001b[39m.\u001b[39;49mpartial_fit(X, y, sample_weight)\n",
      "File \u001b[1;32m~\\AppData\\Local\\Programs\\Python\\Python39\\lib\\site-packages\\sklearn\\preprocessing\\_data.py:841\u001b[0m, in \u001b[0;36mStandardScaler.partial_fit\u001b[1;34m(self, X, y, sample_weight)\u001b[0m\n\u001b[0;32m    <a href='file:///c%3A/Users/nehue/AppData/Local/Programs/Python/Python39/lib/site-packages/sklearn/preprocessing/_data.py?line=808'>809</a>\u001b[0m \u001b[39m\"\"\"Online computation of mean and std on X for later scaling.\u001b[39;00m\n\u001b[0;32m    <a href='file:///c%3A/Users/nehue/AppData/Local/Programs/Python/Python39/lib/site-packages/sklearn/preprocessing/_data.py?line=809'>810</a>\u001b[0m \n\u001b[0;32m    <a href='file:///c%3A/Users/nehue/AppData/Local/Programs/Python/Python39/lib/site-packages/sklearn/preprocessing/_data.py?line=810'>811</a>\u001b[0m \u001b[39mAll of X is processed as a single batch. This is intended for cases\u001b[39;00m\n\u001b[1;32m   (...)\u001b[0m\n\u001b[0;32m    <a href='file:///c%3A/Users/nehue/AppData/Local/Programs/Python/Python39/lib/site-packages/sklearn/preprocessing/_data.py?line=837'>838</a>\u001b[0m \u001b[39m    Fitted scaler.\u001b[39;00m\n\u001b[0;32m    <a href='file:///c%3A/Users/nehue/AppData/Local/Programs/Python/Python39/lib/site-packages/sklearn/preprocessing/_data.py?line=838'>839</a>\u001b[0m \u001b[39m\"\"\"\u001b[39;00m\n\u001b[0;32m    <a href='file:///c%3A/Users/nehue/AppData/Local/Programs/Python/Python39/lib/site-packages/sklearn/preprocessing/_data.py?line=839'>840</a>\u001b[0m first_call \u001b[39m=\u001b[39m \u001b[39mnot\u001b[39;00m \u001b[39mhasattr\u001b[39m(\u001b[39mself\u001b[39m, \u001b[39m\"\u001b[39m\u001b[39mn_samples_seen_\u001b[39m\u001b[39m\"\u001b[39m)\n\u001b[1;32m--> <a href='file:///c%3A/Users/nehue/AppData/Local/Programs/Python/Python39/lib/site-packages/sklearn/preprocessing/_data.py?line=840'>841</a>\u001b[0m X \u001b[39m=\u001b[39m \u001b[39mself\u001b[39;49m\u001b[39m.\u001b[39;49m_validate_data(\n\u001b[0;32m    <a href='file:///c%3A/Users/nehue/AppData/Local/Programs/Python/Python39/lib/site-packages/sklearn/preprocessing/_data.py?line=841'>842</a>\u001b[0m     X,\n\u001b[0;32m    <a href='file:///c%3A/Users/nehue/AppData/Local/Programs/Python/Python39/lib/site-packages/sklearn/preprocessing/_data.py?line=842'>843</a>\u001b[0m     accept_sparse\u001b[39m=\u001b[39;49m(\u001b[39m\"\u001b[39;49m\u001b[39mcsr\u001b[39;49m\u001b[39m\"\u001b[39;49m, \u001b[39m\"\u001b[39;49m\u001b[39mcsc\u001b[39;49m\u001b[39m\"\u001b[39;49m),\n\u001b[0;32m    <a href='file:///c%3A/Users/nehue/AppData/Local/Programs/Python/Python39/lib/site-packages/sklearn/preprocessing/_data.py?line=843'>844</a>\u001b[0m     estimator\u001b[39m=\u001b[39;49m\u001b[39mself\u001b[39;49m,\n\u001b[0;32m    <a href='file:///c%3A/Users/nehue/AppData/Local/Programs/Python/Python39/lib/site-packages/sklearn/preprocessing/_data.py?line=844'>845</a>\u001b[0m     dtype\u001b[39m=\u001b[39;49mFLOAT_DTYPES,\n\u001b[0;32m    <a href='file:///c%3A/Users/nehue/AppData/Local/Programs/Python/Python39/lib/site-packages/sklearn/preprocessing/_data.py?line=845'>846</a>\u001b[0m     force_all_finite\u001b[39m=\u001b[39;49m\u001b[39m\"\u001b[39;49m\u001b[39mallow-nan\u001b[39;49m\u001b[39m\"\u001b[39;49m,\n\u001b[0;32m    <a href='file:///c%3A/Users/nehue/AppData/Local/Programs/Python/Python39/lib/site-packages/sklearn/preprocessing/_data.py?line=846'>847</a>\u001b[0m     reset\u001b[39m=\u001b[39;49mfirst_call,\n\u001b[0;32m    <a href='file:///c%3A/Users/nehue/AppData/Local/Programs/Python/Python39/lib/site-packages/sklearn/preprocessing/_data.py?line=847'>848</a>\u001b[0m )\n\u001b[0;32m    <a href='file:///c%3A/Users/nehue/AppData/Local/Programs/Python/Python39/lib/site-packages/sklearn/preprocessing/_data.py?line=848'>849</a>\u001b[0m n_features \u001b[39m=\u001b[39m X\u001b[39m.\u001b[39mshape[\u001b[39m1\u001b[39m]\n\u001b[0;32m    <a href='file:///c%3A/Users/nehue/AppData/Local/Programs/Python/Python39/lib/site-packages/sklearn/preprocessing/_data.py?line=850'>851</a>\u001b[0m \u001b[39mif\u001b[39;00m sample_weight \u001b[39mis\u001b[39;00m \u001b[39mnot\u001b[39;00m \u001b[39mNone\u001b[39;00m:\n",
      "File \u001b[1;32m~\\AppData\\Local\\Programs\\Python\\Python39\\lib\\site-packages\\sklearn\\base.py:566\u001b[0m, in \u001b[0;36mBaseEstimator._validate_data\u001b[1;34m(self, X, y, reset, validate_separately, **check_params)\u001b[0m\n\u001b[0;32m    <a href='file:///c%3A/Users/nehue/AppData/Local/Programs/Python/Python39/lib/site-packages/sklearn/base.py?line=563'>564</a>\u001b[0m     \u001b[39mraise\u001b[39;00m \u001b[39mValueError\u001b[39;00m(\u001b[39m\"\u001b[39m\u001b[39mValidation should be done on X, y or both.\u001b[39m\u001b[39m\"\u001b[39m)\n\u001b[0;32m    <a href='file:///c%3A/Users/nehue/AppData/Local/Programs/Python/Python39/lib/site-packages/sklearn/base.py?line=564'>565</a>\u001b[0m \u001b[39melif\u001b[39;00m \u001b[39mnot\u001b[39;00m no_val_X \u001b[39mand\u001b[39;00m no_val_y:\n\u001b[1;32m--> <a href='file:///c%3A/Users/nehue/AppData/Local/Programs/Python/Python39/lib/site-packages/sklearn/base.py?line=565'>566</a>\u001b[0m     X \u001b[39m=\u001b[39m check_array(X, \u001b[39m*\u001b[39m\u001b[39m*\u001b[39mcheck_params)\n\u001b[0;32m    <a href='file:///c%3A/Users/nehue/AppData/Local/Programs/Python/Python39/lib/site-packages/sklearn/base.py?line=566'>567</a>\u001b[0m     out \u001b[39m=\u001b[39m X\n\u001b[0;32m    <a href='file:///c%3A/Users/nehue/AppData/Local/Programs/Python/Python39/lib/site-packages/sklearn/base.py?line=567'>568</a>\u001b[0m \u001b[39melif\u001b[39;00m no_val_X \u001b[39mand\u001b[39;00m \u001b[39mnot\u001b[39;00m no_val_y:\n",
      "File \u001b[1;32m~\\AppData\\Local\\Programs\\Python\\Python39\\lib\\site-packages\\sklearn\\utils\\validation.py:746\u001b[0m, in \u001b[0;36mcheck_array\u001b[1;34m(array, accept_sparse, accept_large_sparse, dtype, order, copy, force_all_finite, ensure_2d, allow_nd, ensure_min_samples, ensure_min_features, estimator)\u001b[0m\n\u001b[0;32m    <a href='file:///c%3A/Users/nehue/AppData/Local/Programs/Python/Python39/lib/site-packages/sklearn/utils/validation.py?line=743'>744</a>\u001b[0m         array \u001b[39m=\u001b[39m array\u001b[39m.\u001b[39mastype(dtype, casting\u001b[39m=\u001b[39m\u001b[39m\"\u001b[39m\u001b[39munsafe\u001b[39m\u001b[39m\"\u001b[39m, copy\u001b[39m=\u001b[39m\u001b[39mFalse\u001b[39;00m)\n\u001b[0;32m    <a href='file:///c%3A/Users/nehue/AppData/Local/Programs/Python/Python39/lib/site-packages/sklearn/utils/validation.py?line=744'>745</a>\u001b[0m     \u001b[39melse\u001b[39;00m:\n\u001b[1;32m--> <a href='file:///c%3A/Users/nehue/AppData/Local/Programs/Python/Python39/lib/site-packages/sklearn/utils/validation.py?line=745'>746</a>\u001b[0m         array \u001b[39m=\u001b[39m np\u001b[39m.\u001b[39;49masarray(array, order\u001b[39m=\u001b[39;49morder, dtype\u001b[39m=\u001b[39;49mdtype)\n\u001b[0;32m    <a href='file:///c%3A/Users/nehue/AppData/Local/Programs/Python/Python39/lib/site-packages/sklearn/utils/validation.py?line=746'>747</a>\u001b[0m \u001b[39mexcept\u001b[39;00m ComplexWarning \u001b[39mas\u001b[39;00m complex_warning:\n\u001b[0;32m    <a href='file:///c%3A/Users/nehue/AppData/Local/Programs/Python/Python39/lib/site-packages/sklearn/utils/validation.py?line=747'>748</a>\u001b[0m     \u001b[39mraise\u001b[39;00m \u001b[39mValueError\u001b[39;00m(\n\u001b[0;32m    <a href='file:///c%3A/Users/nehue/AppData/Local/Programs/Python/Python39/lib/site-packages/sklearn/utils/validation.py?line=748'>749</a>\u001b[0m         \u001b[39m\"\u001b[39m\u001b[39mComplex data not supported\u001b[39m\u001b[39m\\n\u001b[39;00m\u001b[39m{}\u001b[39;00m\u001b[39m\\n\u001b[39;00m\u001b[39m\"\u001b[39m\u001b[39m.\u001b[39mformat(array)\n\u001b[0;32m    <a href='file:///c%3A/Users/nehue/AppData/Local/Programs/Python/Python39/lib/site-packages/sklearn/utils/validation.py?line=749'>750</a>\u001b[0m     ) \u001b[39mfrom\u001b[39;00m \u001b[39mcomplex_warning\u001b[39;00m\n",
      "File \u001b[1;32m~\\AppData\\Local\\Programs\\Python\\Python39\\lib\\site-packages\\pandas\\core\\generic.py:2070\u001b[0m, in \u001b[0;36mNDFrame.__array__\u001b[1;34m(self, dtype)\u001b[0m\n\u001b[0;32m   <a href='file:///c%3A/Users/nehue/AppData/Local/Programs/Python/Python39/lib/site-packages/pandas/core/generic.py?line=2068'>2069</a>\u001b[0m \u001b[39mdef\u001b[39;00m \u001b[39m__array__\u001b[39m(\u001b[39mself\u001b[39m, dtype: npt\u001b[39m.\u001b[39mDTypeLike \u001b[39m|\u001b[39m \u001b[39mNone\u001b[39;00m \u001b[39m=\u001b[39m \u001b[39mNone\u001b[39;00m) \u001b[39m-\u001b[39m\u001b[39m>\u001b[39m np\u001b[39m.\u001b[39mndarray:\n\u001b[1;32m-> <a href='file:///c%3A/Users/nehue/AppData/Local/Programs/Python/Python39/lib/site-packages/pandas/core/generic.py?line=2069'>2070</a>\u001b[0m     \u001b[39mreturn\u001b[39;00m np\u001b[39m.\u001b[39;49masarray(\u001b[39mself\u001b[39;49m\u001b[39m.\u001b[39;49m_values, dtype\u001b[39m=\u001b[39;49mdtype)\n",
      "\u001b[1;31mValueError\u001b[0m: could not convert string to float: '84970S'"
     ]
    }
   ],
   "source": [
    "scaler = StandardScaler()\n",
    "df_scaled = scaler.fit_transform(df)"
   ]
  }
 ],
 "metadata": {
  "interpreter": {
   "hash": "3a4565eb6215a326995d9cfd00f1782ebb9ab334d122fb684360bfee2e0fdc62"
  },
  "kernelspec": {
   "display_name": "Python 3.9.5 64-bit",
   "language": "python",
   "name": "python3"
  },
  "language_info": {
   "codemirror_mode": {
    "name": "ipython",
    "version": 3
   },
   "file_extension": ".py",
   "mimetype": "text/x-python",
   "name": "python",
   "nbconvert_exporter": "python",
   "pygments_lexer": "ipython3",
   "version": "3.9.5"
  },
  "orig_nbformat": 4
 },
 "nbformat": 4,
 "nbformat_minor": 2
}
