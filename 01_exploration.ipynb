{
 "cells": [
  {
   "cell_type": "code",
   "execution_count": 132,
   "metadata": {},
   "outputs": [],
   "source": [
    "import pandas as pd\n",
    "import numpy as np\n",
    "import matplotlib.pyplot as plt\n",
    "import seaborn as sns"
   ]
  },
  {
   "cell_type": "code",
   "execution_count": 133,
   "metadata": {},
   "outputs": [],
   "source": [
    "df = pd.read_excel(\"Online Retail.xlsx\")"
   ]
  },
  {
   "cell_type": "markdown",
   "metadata": {},
   "source": [
    "# Data Preprocessing"
   ]
  },
  {
   "cell_type": "code",
   "execution_count": 134,
   "metadata": {},
   "outputs": [
    {
     "data": {
      "text/html": [
       "<div>\n",
       "<style scoped>\n",
       "    .dataframe tbody tr th:only-of-type {\n",
       "        vertical-align: middle;\n",
       "    }\n",
       "\n",
       "    .dataframe tbody tr th {\n",
       "        vertical-align: top;\n",
       "    }\n",
       "\n",
       "    .dataframe thead th {\n",
       "        text-align: right;\n",
       "    }\n",
       "</style>\n",
       "<table border=\"1\" class=\"dataframe\">\n",
       "  <thead>\n",
       "    <tr style=\"text-align: right;\">\n",
       "      <th></th>\n",
       "      <th>Quantity</th>\n",
       "      <th>UnitPrice</th>\n",
       "      <th>CustomerID</th>\n",
       "    </tr>\n",
       "  </thead>\n",
       "  <tbody>\n",
       "    <tr>\n",
       "      <th>count</th>\n",
       "      <td>541909.000000</td>\n",
       "      <td>541909.000000</td>\n",
       "      <td>406829.000000</td>\n",
       "    </tr>\n",
       "    <tr>\n",
       "      <th>mean</th>\n",
       "      <td>9.552250</td>\n",
       "      <td>4.611114</td>\n",
       "      <td>15287.690570</td>\n",
       "    </tr>\n",
       "    <tr>\n",
       "      <th>std</th>\n",
       "      <td>218.081158</td>\n",
       "      <td>96.759853</td>\n",
       "      <td>1713.600303</td>\n",
       "    </tr>\n",
       "    <tr>\n",
       "      <th>min</th>\n",
       "      <td>-80995.000000</td>\n",
       "      <td>-11062.060000</td>\n",
       "      <td>12346.000000</td>\n",
       "    </tr>\n",
       "    <tr>\n",
       "      <th>25%</th>\n",
       "      <td>1.000000</td>\n",
       "      <td>1.250000</td>\n",
       "      <td>13953.000000</td>\n",
       "    </tr>\n",
       "    <tr>\n",
       "      <th>50%</th>\n",
       "      <td>3.000000</td>\n",
       "      <td>2.080000</td>\n",
       "      <td>15152.000000</td>\n",
       "    </tr>\n",
       "    <tr>\n",
       "      <th>75%</th>\n",
       "      <td>10.000000</td>\n",
       "      <td>4.130000</td>\n",
       "      <td>16791.000000</td>\n",
       "    </tr>\n",
       "    <tr>\n",
       "      <th>max</th>\n",
       "      <td>80995.000000</td>\n",
       "      <td>38970.000000</td>\n",
       "      <td>18287.000000</td>\n",
       "    </tr>\n",
       "  </tbody>\n",
       "</table>\n",
       "</div>"
      ],
      "text/plain": [
       "            Quantity      UnitPrice     CustomerID\n",
       "count  541909.000000  541909.000000  406829.000000\n",
       "mean        9.552250       4.611114   15287.690570\n",
       "std       218.081158      96.759853    1713.600303\n",
       "min    -80995.000000  -11062.060000   12346.000000\n",
       "25%         1.000000       1.250000   13953.000000\n",
       "50%         3.000000       2.080000   15152.000000\n",
       "75%        10.000000       4.130000   16791.000000\n",
       "max     80995.000000   38970.000000   18287.000000"
      ]
     },
     "execution_count": 134,
     "metadata": {},
     "output_type": "execute_result"
    }
   ],
   "source": [
    "df.describe()"
   ]
  },
  {
   "cell_type": "code",
   "execution_count": 135,
   "metadata": {},
   "outputs": [
    {
     "name": "stdout",
     "output_type": "stream",
     "text": [
      "<class 'pandas.core.frame.DataFrame'>\n",
      "RangeIndex: 541909 entries, 0 to 541908\n",
      "Data columns (total 8 columns):\n",
      " #   Column       Non-Null Count   Dtype         \n",
      "---  ------       --------------   -----         \n",
      " 0   InvoiceNo    541909 non-null  object        \n",
      " 1   StockCode    541909 non-null  object        \n",
      " 2   Description  540455 non-null  object        \n",
      " 3   Quantity     541909 non-null  int64         \n",
      " 4   InvoiceDate  541909 non-null  datetime64[ns]\n",
      " 5   UnitPrice    541909 non-null  float64       \n",
      " 6   CustomerID   406829 non-null  float64       \n",
      " 7   Country      541909 non-null  object        \n",
      "dtypes: datetime64[ns](1), float64(2), int64(1), object(4)\n",
      "memory usage: 33.1+ MB\n"
     ]
    }
   ],
   "source": [
    "df.info()"
   ]
  },
  {
   "cell_type": "code",
   "execution_count": 136,
   "metadata": {},
   "outputs": [],
   "source": [
    "df = df.drop([\"Description\"],axis=1)"
   ]
  },
  {
   "cell_type": "code",
   "execution_count": 137,
   "metadata": {},
   "outputs": [],
   "source": [
    "df = df.dropna()"
   ]
  },
  {
   "cell_type": "code",
   "execution_count": 138,
   "metadata": {},
   "outputs": [
    {
     "data": {
      "text/plain": [
       "InvoiceNo      0\n",
       "StockCode      0\n",
       "Quantity       0\n",
       "InvoiceDate    0\n",
       "UnitPrice      0\n",
       "CustomerID     0\n",
       "Country        0\n",
       "dtype: int64"
      ]
     },
     "execution_count": 138,
     "metadata": {},
     "output_type": "execute_result"
    }
   ],
   "source": [
    "df.isnull().sum()"
   ]
  },
  {
   "cell_type": "code",
   "execution_count": 139,
   "metadata": {},
   "outputs": [
    {
     "data": {
      "text/plain": [
       "<AxesSubplot:>"
      ]
     },
     "execution_count": 139,
     "metadata": {},
     "output_type": "execute_result"
    },
    {
     "data": {
      "image/png": "[encoded data removed]",
      "text/plain": [
       "<Figure size 432x288 with 1 Axes>"
      ]
     },
     "metadata": {
      "needs_background": "light"
     },
     "output_type": "display_data"
    }
   ],
   "source": [
    "df[\"UnitPrice\"].plot(kind=\"box\")"
   ]
  },
  {
   "cell_type": "code",
   "execution_count": 140,
   "metadata": {},
   "outputs": [],
   "source": [
    "df_sorted = df[df[\"Quantity\"]!=-1].sort_values(by=[\"UnitPrice\"], ascending=False)"
   ]
  },
  {
   "cell_type": "code",
   "execution_count": 141,
   "metadata": {},
   "outputs": [
    {
     "data": {
      "text/plain": [
       "22"
      ]
     },
     "execution_count": 141,
     "metadata": {},
     "output_type": "execute_result"
    }
   ],
   "source": [
    "len(df_sorted[df_sorted[\"UnitPrice\"]>1000])"
   ]
  },
  {
   "cell_type": "code",
   "execution_count": 142,
   "metadata": {},
   "outputs": [
    {
     "name": "stderr",
     "output_type": "stream",
     "text": [
      "C:\\Users\\nehue\\AppData\\Local\\Temp\\ipykernel_17908\\41533685.py:1: UserWarning: Boolean Series key will be reindexed to match DataFrame index.\n",
      "  df = df_sorted[df_sorted[\"UnitPrice\"]<1000][df_sorted[\"Quantity\"]>0][df[\"UnitPrice\"]>0]\n"
     ]
    }
   ],
   "source": [
    "df = df_sorted[df_sorted[\"UnitPrice\"]<1000][df_sorted[\"Quantity\"]>0][df[\"UnitPrice\"]>0]"
   ]
  },
  {
   "cell_type": "code",
   "execution_count": 143,
   "metadata": {},
   "outputs": [],
   "source": [
    "import re"
   ]
  },
  {
   "cell_type": "code",
   "execution_count": 144,
   "metadata": {},
   "outputs": [],
   "source": [
    "stc = df[\"StockCode\"].unique()\n",
    "\n",
    "stock_with_words = [stockcode for stockcode in stc if type(stockcode)!=int]\n",
    "stock_with_words = [sc for sc in stock_with_words if not any(char.isdigit() for char in sc)]"
   ]
  },
  {
   "cell_type": "code",
   "execution_count": 145,
   "metadata": {},
   "outputs": [
    {
     "data": {
      "text/plain": [
       "['DOT', 'M', 'POST', 'BANK CHARGES', 'PADS']"
      ]
     },
     "execution_count": 145,
     "metadata": {},
     "output_type": "execute_result"
    }
   ],
   "source": [
    "stock_with_words"
   ]
  },
  {
   "cell_type": "code",
   "execution_count": 146,
   "metadata": {},
   "outputs": [],
   "source": [
    "for word in stock_with_words:\n",
    "\n",
    "    df = df[df[\"StockCode\"]!=word]"
   ]
  },
  {
   "cell_type": "code",
   "execution_count": 147,
   "metadata": {},
   "outputs": [
    {
     "data": {
      "text/plain": [
       "<AxesSubplot:>"
      ]
     },
     "execution_count": 147,
     "metadata": {},
     "output_type": "execute_result"
    },
    {
     "data": {
      "image/png": "[encoded data removed]",
      "text/plain": [
       "<Figure size 432x288 with 1 Axes>"
      ]
     },
     "metadata": {
      "needs_background": "light"
     },
     "output_type": "display_data"
    }
   ],
   "source": [
    "df[\"Quantity\"].plot(kind=\"box\")"
   ]
  },
  {
   "cell_type": "code",
   "execution_count": 148,
   "metadata": {},
   "outputs": [
    {
     "data": {
      "text/html": [
       "<div>\n",
       "<style scoped>\n",
       "    .dataframe tbody tr th:only-of-type {\n",
       "        vertical-align: middle;\n",
       "    }\n",
       "\n",
       "    .dataframe tbody tr th {\n",
       "        vertical-align: top;\n",
       "    }\n",
       "\n",
       "    .dataframe thead th {\n",
       "        text-align: right;\n",
       "    }\n",
       "</style>\n",
       "<table border=\"1\" class=\"dataframe\">\n",
       "  <thead>\n",
       "    <tr style=\"text-align: right;\">\n",
       "      <th></th>\n",
       "      <th>InvoiceNo</th>\n",
       "      <th>StockCode</th>\n",
       "      <th>Quantity</th>\n",
       "      <th>InvoiceDate</th>\n",
       "      <th>UnitPrice</th>\n",
       "      <th>CustomerID</th>\n",
       "      <th>Country</th>\n",
       "    </tr>\n",
       "  </thead>\n",
       "  <tbody>\n",
       "    <tr>\n",
       "      <th>540421</th>\n",
       "      <td>581483</td>\n",
       "      <td>23843</td>\n",
       "      <td>80995</td>\n",
       "      <td>2011-12-09 09:15:00</td>\n",
       "      <td>2.08</td>\n",
       "      <td>16446.0</td>\n",
       "      <td>United Kingdom</td>\n",
       "    </tr>\n",
       "    <tr>\n",
       "      <th>61619</th>\n",
       "      <td>541431</td>\n",
       "      <td>23166</td>\n",
       "      <td>74215</td>\n",
       "      <td>2011-01-18 10:01:00</td>\n",
       "      <td>1.04</td>\n",
       "      <td>12346.0</td>\n",
       "      <td>United Kingdom</td>\n",
       "    </tr>\n",
       "  </tbody>\n",
       "</table>\n",
       "</div>"
      ],
      "text/plain": [
       "       InvoiceNo StockCode  Quantity         InvoiceDate  UnitPrice  \\\n",
       "540421    581483     23843     80995 2011-12-09 09:15:00       2.08   \n",
       "61619     541431     23166     74215 2011-01-18 10:01:00       1.04   \n",
       "\n",
       "        CustomerID         Country  \n",
       "540421     16446.0  United Kingdom  \n",
       "61619      12346.0  United Kingdom  "
      ]
     },
     "execution_count": 148,
     "metadata": {},
     "output_type": "execute_result"
    }
   ],
   "source": [
    "df[df[\"Quantity\"]>10000]"
   ]
  },
  {
   "cell_type": "code",
   "execution_count": 149,
   "metadata": {},
   "outputs": [],
   "source": [
    "df = df[df[\"Quantity\"]<3000]\n"
   ]
  },
  {
   "cell_type": "markdown",
   "metadata": {},
   "source": [
    "# Feature selection and engineering"
   ]
  },
  {
   "cell_type": "markdown",
   "metadata": {},
   "source": [
    "- Create more features (based on each customer): average_purchase_quantity, average_purchase_expense, Purchase_frequency, time_as_buyer, lifetime_expenses, unique_items_bought\n",
    "\n",
    "- Encode categorical features: Country\n",
    "\n"
   ]
  },
  {
   "cell_type": "code",
   "execution_count": 150,
   "metadata": {},
   "outputs": [],
   "source": [
    "# average_purchase_quantity\n",
    "\n",
    "df['average_purchase_quantity'] = df.groupby('CustomerID')['UnitPrice'].transform('mean')"
   ]
  },
  {
   "cell_type": "code",
   "execution_count": 151,
   "metadata": {},
   "outputs": [],
   "source": [
    "# average_purchase_expense\n",
    "\n",
    "df['average_purchase_expense'] = df.groupby('CustomerID')['Quantity'].transform('mean')"
   ]
  },
  {
   "cell_type": "code",
   "execution_count": 152,
   "metadata": {},
   "outputs": [],
   "source": [
    "# Purchase_frequency\n",
    "\n",
    "purchase_dates = df.groupby('CustomerID')['InvoiceDate'].agg(['min', 'max', \"count\"])\n",
    "\n",
    "purchase_dates['Purchase_frequency'] = (purchase_dates['max'] - purchase_dates['min']).dt.days / purchase_dates[\"count\"]\n",
    "\n",
    "df = pd.merge(df, purchase_dates['Purchase_frequency'], on='CustomerID')"
   ]
  },
  {
   "cell_type": "code",
   "execution_count": 153,
   "metadata": {},
   "outputs": [],
   "source": [
    "# time_as_buyer\n",
    "\n",
    "purchase_dates = df.groupby('CustomerID')['InvoiceDate'].agg(['min', 'max'])\n",
    "\n",
    "purchase_dates['time_as_buyer'] = (purchase_dates['max'] - purchase_dates['min']).dt.days\n",
    "\n",
    "df = pd.merge(df, purchase_dates['time_as_buyer'], on='CustomerID')"
   ]
  },
  {
   "cell_type": "code",
   "execution_count": 154,
   "metadata": {},
   "outputs": [],
   "source": [
    "# lifetime_expenses\n",
    "\n",
    "df[\"lifetime_expenses\"] = df.groupby('CustomerID')['UnitPrice'].transform('sum')"
   ]
  },
  {
   "cell_type": "code",
   "execution_count": 155,
   "metadata": {},
   "outputs": [],
   "source": [
    "# unique_items_bought\n",
    "\n",
    "unique = df.groupby('CustomerID')['StockCode'].nunique()\n",
    "\n",
    "unique_df = unique.to_frame()\n",
    "\n",
    "df = pd.merge(df, unique_df, on='CustomerID')\n",
    "\n",
    "df[\"unique_items_bought\"] = df[\"StockCode_y\"]\n",
    "\n",
    "df = df.drop(columns=\"StockCode_y\")\n",
    "df = df.drop(columns=\"StockCode_x\")"
   ]
  },
  {
   "cell_type": "code",
   "execution_count": 156,
   "metadata": {},
   "outputs": [],
   "source": [
    "df = pd.get_dummies(df, columns=['Country'])"
   ]
  },
  {
   "cell_type": "code",
   "execution_count": 157,
   "metadata": {},
   "outputs": [
    {
     "data": {
      "text/plain": [
       "Index(['InvoiceNo', 'Quantity', 'InvoiceDate', 'UnitPrice', 'CustomerID',\n",
       "       'average_purchase_quantity', 'average_purchase_expense',\n",
       "       'Purchase_frequency', 'time_as_buyer', 'lifetime_expenses',\n",
       "       'unique_items_bought', 'Country_Australia', 'Country_Austria',\n",
       "       'Country_Bahrain', 'Country_Belgium', 'Country_Brazil',\n",
       "       'Country_Canada', 'Country_Channel Islands', 'Country_Cyprus',\n",
       "       'Country_Czech Republic', 'Country_Denmark', 'Country_EIRE',\n",
       "       'Country_European Community', 'Country_Finland', 'Country_France',\n",
       "       'Country_Germany', 'Country_Greece', 'Country_Iceland',\n",
       "       'Country_Israel', 'Country_Italy', 'Country_Japan', 'Country_Lebanon',\n",
       "       'Country_Lithuania', 'Country_Malta', 'Country_Netherlands',\n",
       "       'Country_Norway', 'Country_Poland', 'Country_Portugal', 'Country_RSA',\n",
       "       'Country_Saudi Arabia', 'Country_Singapore', 'Country_Spain',\n",
       "       'Country_Sweden', 'Country_Switzerland', 'Country_USA',\n",
       "       'Country_United Arab Emirates', 'Country_United Kingdom',\n",
       "       'Country_Unspecified'],\n",
       "      dtype='object')"
      ]
     },
     "execution_count": 157,
     "metadata": {},
     "output_type": "execute_result"
    }
   ],
   "source": [
    "df.columns"
   ]
  },
  {
   "cell_type": "code",
   "execution_count": 158,
   "metadata": {},
   "outputs": [
    {
     "name": "stderr",
     "output_type": "stream",
     "text": [
      "C:\\Users\\nehue\\AppData\\Local\\Temp\\ipykernel_17908\\475855175.py:5: FutureWarning: Not prepending group keys to the result index of transform-like apply. In the future, the group keys will be included in the index, regardless of whether the applied function returns a like-indexed object.\n",
      "To preserve the previous behavior, use\n",
      "\n",
      "\t>>> .groupby(..., group_keys=False)\n",
      "\n",
      "To adopt the future behavior and silence this warning, use \n",
      "\n",
      "\t>>> .groupby(..., group_keys=True)\n",
      "  df = df.groupby('CustomerID').apply(pd.DataFrame).reset_index().drop_duplicates()\n"
     ]
    }
   ],
   "source": [
    "# Converting to a customer based dataframe and leaving out unecessary features:\n",
    "\n",
    "df.drop(columns=[\"InvoiceNo\", \"Quantity\", \"InvoiceDate\",\"UnitPrice\"], inplace=True)\n",
    "\n",
    "df = df.groupby('CustomerID').apply(pd.DataFrame).reset_index().drop_duplicates()\n",
    "\n",
    "df.drop(columns=[\"CustomerID\"], inplace=True)"
   ]
  },
  {
   "cell_type": "code",
   "execution_count": 162,
   "metadata": {},
   "outputs": [
    {
     "data": {
      "text/html": [
       "<div>\n",
       "<style scoped>\n",
       "    .dataframe tbody tr th:only-of-type {\n",
       "        vertical-align: middle;\n",
       "    }\n",
       "\n",
       "    .dataframe tbody tr th {\n",
       "        vertical-align: top;\n",
       "    }\n",
       "\n",
       "    .dataframe thead th {\n",
       "        text-align: right;\n",
       "    }\n",
       "</style>\n",
       "<table border=\"1\" class=\"dataframe\">\n",
       "  <thead>\n",
       "    <tr style=\"text-align: right;\">\n",
       "      <th></th>\n",
       "      <th>average_purchase_quantity</th>\n",
       "      <th>average_purchase_expense</th>\n",
       "      <th>Purchase_frequency</th>\n",
       "      <th>time_as_buyer</th>\n",
       "      <th>lifetime_expenses</th>\n",
       "      <th>unique_items_bought</th>\n",
       "      <th>Country_Australia</th>\n",
       "      <th>Country_Austria</th>\n",
       "      <th>Country_Bahrain</th>\n",
       "      <th>Country_Belgium</th>\n",
       "      <th>...</th>\n",
       "      <th>Country_RSA</th>\n",
       "      <th>Country_Saudi Arabia</th>\n",
       "      <th>Country_Singapore</th>\n",
       "      <th>Country_Spain</th>\n",
       "      <th>Country_Sweden</th>\n",
       "      <th>Country_Switzerland</th>\n",
       "      <th>Country_USA</th>\n",
       "      <th>Country_United Arab Emirates</th>\n",
       "      <th>Country_United Kingdom</th>\n",
       "      <th>Country_Unspecified</th>\n",
       "    </tr>\n",
       "  </thead>\n",
       "  <tbody>\n",
       "    <tr>\n",
       "      <th>0</th>\n",
       "      <td>434.650000</td>\n",
       "      <td>40.333333</td>\n",
       "      <td>0.000000</td>\n",
       "      <td>0</td>\n",
       "      <td>1303.95</td>\n",
       "      <td>1</td>\n",
       "      <td>0</td>\n",
       "      <td>0</td>\n",
       "      <td>0</td>\n",
       "      <td>0</td>\n",
       "      <td>...</td>\n",
       "      <td>0</td>\n",
       "      <td>0</td>\n",
       "      <td>0</td>\n",
       "      <td>0</td>\n",
       "      <td>0</td>\n",
       "      <td>0</td>\n",
       "      <td>0</td>\n",
       "      <td>0</td>\n",
       "      <td>1</td>\n",
       "      <td>0</td>\n",
       "    </tr>\n",
       "    <tr>\n",
       "      <th>3</th>\n",
       "      <td>5.326276</td>\n",
       "      <td>8.041379</td>\n",
       "      <td>1.820690</td>\n",
       "      <td>264</td>\n",
       "      <td>772.31</td>\n",
       "      <td>128</td>\n",
       "      <td>0</td>\n",
       "      <td>0</td>\n",
       "      <td>0</td>\n",
       "      <td>0</td>\n",
       "      <td>...</td>\n",
       "      <td>0</td>\n",
       "      <td>0</td>\n",
       "      <td>0</td>\n",
       "      <td>0</td>\n",
       "      <td>0</td>\n",
       "      <td>0</td>\n",
       "      <td>0</td>\n",
       "      <td>0</td>\n",
       "      <td>1</td>\n",
       "      <td>0</td>\n",
       "    </tr>\n",
       "    <tr>\n",
       "      <th>148</th>\n",
       "      <td>295.000000</td>\n",
       "      <td>1.000000</td>\n",
       "      <td>5.500000</td>\n",
       "      <td>11</td>\n",
       "      <td>590.00</td>\n",
       "      <td>1</td>\n",
       "      <td>0</td>\n",
       "      <td>0</td>\n",
       "      <td>0</td>\n",
       "      <td>0</td>\n",
       "      <td>...</td>\n",
       "      <td>0</td>\n",
       "      <td>0</td>\n",
       "      <td>0</td>\n",
       "      <td>0</td>\n",
       "      <td>0</td>\n",
       "      <td>0</td>\n",
       "      <td>0</td>\n",
       "      <td>0</td>\n",
       "      <td>1</td>\n",
       "      <td>0</td>\n",
       "    </tr>\n",
       "    <tr>\n",
       "      <th>150</th>\n",
       "      <td>5.035568</td>\n",
       "      <td>9.187500</td>\n",
       "      <td>1.107955</td>\n",
       "      <td>195</td>\n",
       "      <td>886.26</td>\n",
       "      <td>156</td>\n",
       "      <td>0</td>\n",
       "      <td>0</td>\n",
       "      <td>0</td>\n",
       "      <td>0</td>\n",
       "      <td>...</td>\n",
       "      <td>0</td>\n",
       "      <td>0</td>\n",
       "      <td>0</td>\n",
       "      <td>0</td>\n",
       "      <td>0</td>\n",
       "      <td>0</td>\n",
       "      <td>0</td>\n",
       "      <td>0</td>\n",
       "      <td>1</td>\n",
       "      <td>0</td>\n",
       "    </tr>\n",
       "    <tr>\n",
       "      <th>326</th>\n",
       "      <td>4.347849</td>\n",
       "      <td>16.622093</td>\n",
       "      <td>1.982558</td>\n",
       "      <td>341</td>\n",
       "      <td>747.83</td>\n",
       "      <td>140</td>\n",
       "      <td>0</td>\n",
       "      <td>0</td>\n",
       "      <td>0</td>\n",
       "      <td>0</td>\n",
       "      <td>...</td>\n",
       "      <td>0</td>\n",
       "      <td>0</td>\n",
       "      <td>0</td>\n",
       "      <td>0</td>\n",
       "      <td>0</td>\n",
       "      <td>0</td>\n",
       "      <td>0</td>\n",
       "      <td>0</td>\n",
       "      <td>1</td>\n",
       "      <td>0</td>\n",
       "    </tr>\n",
       "    <tr>\n",
       "      <th>...</th>\n",
       "      <td>...</td>\n",
       "      <td>...</td>\n",
       "      <td>...</td>\n",
       "      <td>...</td>\n",
       "      <td>...</td>\n",
       "      <td>...</td>\n",
       "      <td>...</td>\n",
       "      <td>...</td>\n",
       "      <td>...</td>\n",
       "      <td>...</td>\n",
       "      <td>...</td>\n",
       "      <td>...</td>\n",
       "      <td>...</td>\n",
       "      <td>...</td>\n",
       "      <td>...</td>\n",
       "      <td>...</td>\n",
       "      <td>...</td>\n",
       "      <td>...</td>\n",
       "      <td>...</td>\n",
       "      <td>...</td>\n",
       "      <td>...</td>\n",
       "    </tr>\n",
       "    <tr>\n",
       "      <th>396451</th>\n",
       "      <td>0.290000</td>\n",
       "      <td>40.000000</td>\n",
       "      <td>0.000000</td>\n",
       "      <td>0</td>\n",
       "      <td>0.87</td>\n",
       "      <td>3</td>\n",
       "      <td>0</td>\n",
       "      <td>0</td>\n",
       "      <td>0</td>\n",
       "      <td>0</td>\n",
       "      <td>...</td>\n",
       "      <td>0</td>\n",
       "      <td>0</td>\n",
       "      <td>0</td>\n",
       "      <td>0</td>\n",
       "      <td>0</td>\n",
       "      <td>0</td>\n",
       "      <td>0</td>\n",
       "      <td>0</td>\n",
       "      <td>1</td>\n",
       "      <td>0</td>\n",
       "    </tr>\n",
       "    <tr>\n",
       "      <th>396454</th>\n",
       "      <td>0.290000</td>\n",
       "      <td>312.000000</td>\n",
       "      <td>0.000000</td>\n",
       "      <td>0</td>\n",
       "      <td>0.29</td>\n",
       "      <td>1</td>\n",
       "      <td>0</td>\n",
       "      <td>0</td>\n",
       "      <td>0</td>\n",
       "      <td>0</td>\n",
       "      <td>...</td>\n",
       "      <td>0</td>\n",
       "      <td>0</td>\n",
       "      <td>0</td>\n",
       "      <td>0</td>\n",
       "      <td>0</td>\n",
       "      <td>0</td>\n",
       "      <td>0</td>\n",
       "      <td>0</td>\n",
       "      <td>1</td>\n",
       "      <td>0</td>\n",
       "    </tr>\n",
       "    <tr>\n",
       "      <th>396455</th>\n",
       "      <td>0.143333</td>\n",
       "      <td>1280.000000</td>\n",
       "      <td>74.666667</td>\n",
       "      <td>224</td>\n",
       "      <td>0.43</td>\n",
       "      <td>2</td>\n",
       "      <td>0</td>\n",
       "      <td>0</td>\n",
       "      <td>0</td>\n",
       "      <td>0</td>\n",
       "      <td>...</td>\n",
       "      <td>0</td>\n",
       "      <td>0</td>\n",
       "      <td>0</td>\n",
       "      <td>0</td>\n",
       "      <td>0</td>\n",
       "      <td>0</td>\n",
       "      <td>0</td>\n",
       "      <td>0</td>\n",
       "      <td>1</td>\n",
       "      <td>0</td>\n",
       "    </tr>\n",
       "    <tr>\n",
       "      <th>396458</th>\n",
       "      <td>0.170000</td>\n",
       "      <td>1009.500000</td>\n",
       "      <td>109.500000</td>\n",
       "      <td>219</td>\n",
       "      <td>0.34</td>\n",
       "      <td>1</td>\n",
       "      <td>0</td>\n",
       "      <td>0</td>\n",
       "      <td>0</td>\n",
       "      <td>0</td>\n",
       "      <td>...</td>\n",
       "      <td>0</td>\n",
       "      <td>0</td>\n",
       "      <td>0</td>\n",
       "      <td>0</td>\n",
       "      <td>0</td>\n",
       "      <td>0</td>\n",
       "      <td>0</td>\n",
       "      <td>0</td>\n",
       "      <td>1</td>\n",
       "      <td>0</td>\n",
       "    </tr>\n",
       "    <tr>\n",
       "      <th>396460</th>\n",
       "      <td>0.170000</td>\n",
       "      <td>1440.000000</td>\n",
       "      <td>0.000000</td>\n",
       "      <td>0</td>\n",
       "      <td>0.17</td>\n",
       "      <td>1</td>\n",
       "      <td>0</td>\n",
       "      <td>0</td>\n",
       "      <td>0</td>\n",
       "      <td>0</td>\n",
       "      <td>...</td>\n",
       "      <td>0</td>\n",
       "      <td>0</td>\n",
       "      <td>0</td>\n",
       "      <td>0</td>\n",
       "      <td>0</td>\n",
       "      <td>0</td>\n",
       "      <td>0</td>\n",
       "      <td>0</td>\n",
       "      <td>1</td>\n",
       "      <td>0</td>\n",
       "    </tr>\n",
       "  </tbody>\n",
       "</table>\n",
       "<p>4327 rows × 43 columns</p>\n",
       "</div>"
      ],
      "text/plain": [
       "        average_purchase_quantity  average_purchase_expense  \\\n",
       "0                      434.650000                 40.333333   \n",
       "3                        5.326276                  8.041379   \n",
       "148                    295.000000                  1.000000   \n",
       "150                      5.035568                  9.187500   \n",
       "326                      4.347849                 16.622093   \n",
       "...                           ...                       ...   \n",
       "396451                   0.290000                 40.000000   \n",
       "396454                   0.290000                312.000000   \n",
       "396455                   0.143333               1280.000000   \n",
       "396458                   0.170000               1009.500000   \n",
       "396460                   0.170000               1440.000000   \n",
       "\n",
       "        Purchase_frequency  time_as_buyer  lifetime_expenses  \\\n",
       "0                 0.000000              0            1303.95   \n",
       "3                 1.820690            264             772.31   \n",
       "148               5.500000             11             590.00   \n",
       "150               1.107955            195             886.26   \n",
       "326               1.982558            341             747.83   \n",
       "...                    ...            ...                ...   \n",
       "396451            0.000000              0               0.87   \n",
       "396454            0.000000              0               0.29   \n",
       "396455           74.666667            224               0.43   \n",
       "396458          109.500000            219               0.34   \n",
       "396460            0.000000              0               0.17   \n",
       "\n",
       "        unique_items_bought  Country_Australia  Country_Austria  \\\n",
       "0                         1                  0                0   \n",
       "3                       128                  0                0   \n",
       "148                       1                  0                0   \n",
       "150                     156                  0                0   \n",
       "326                     140                  0                0   \n",
       "...                     ...                ...              ...   \n",
       "396451                    3                  0                0   \n",
       "396454                    1                  0                0   \n",
       "396455                    2                  0                0   \n",
       "396458                    1                  0                0   \n",
       "396460                    1                  0                0   \n",
       "\n",
       "        Country_Bahrain  Country_Belgium  ...  Country_RSA  \\\n",
       "0                     0                0  ...            0   \n",
       "3                     0                0  ...            0   \n",
       "148                   0                0  ...            0   \n",
       "150                   0                0  ...            0   \n",
       "326                   0                0  ...            0   \n",
       "...                 ...              ...  ...          ...   \n",
       "396451                0                0  ...            0   \n",
       "396454                0                0  ...            0   \n",
       "396455                0                0  ...            0   \n",
       "396458                0                0  ...            0   \n",
       "396460                0                0  ...            0   \n",
       "\n",
       "        Country_Saudi Arabia  Country_Singapore  Country_Spain  \\\n",
       "0                          0                  0              0   \n",
       "3                          0                  0              0   \n",
       "148                        0                  0              0   \n",
       "150                        0                  0              0   \n",
       "326                        0                  0              0   \n",
       "...                      ...                ...            ...   \n",
       "396451                     0                  0              0   \n",
       "396454                     0                  0              0   \n",
       "396455                     0                  0              0   \n",
       "396458                     0                  0              0   \n",
       "396460                     0                  0              0   \n",
       "\n",
       "        Country_Sweden  Country_Switzerland  Country_USA  \\\n",
       "0                    0                    0            0   \n",
       "3                    0                    0            0   \n",
       "148                  0                    0            0   \n",
       "150                  0                    0            0   \n",
       "326                  0                    0            0   \n",
       "...                ...                  ...          ...   \n",
       "396451               0                    0            0   \n",
       "396454               0                    0            0   \n",
       "396455               0                    0            0   \n",
       "396458               0                    0            0   \n",
       "396460               0                    0            0   \n",
       "\n",
       "        Country_United Arab Emirates  Country_United Kingdom  \\\n",
       "0                                  0                       1   \n",
       "3                                  0                       1   \n",
       "148                                0                       1   \n",
       "150                                0                       1   \n",
       "326                                0                       1   \n",
       "...                              ...                     ...   \n",
       "396451                             0                       1   \n",
       "396454                             0                       1   \n",
       "396455                             0                       1   \n",
       "396458                             0                       1   \n",
       "396460                             0                       1   \n",
       "\n",
       "        Country_Unspecified  \n",
       "0                         0  \n",
       "3                         0  \n",
       "148                       0  \n",
       "150                       0  \n",
       "326                       0  \n",
       "...                     ...  \n",
       "396451                    0  \n",
       "396454                    0  \n",
       "396455                    0  \n",
       "396458                    0  \n",
       "396460                    0  \n",
       "\n",
       "[4327 rows x 43 columns]"
      ]
     },
     "execution_count": 162,
     "metadata": {},
     "output_type": "execute_result"
    }
   ],
   "source": [
    "df.drop(columns=[\"index\"], inplace=True)\n",
    "df.drop_duplicates()"
   ]
  },
  {
   "cell_type": "markdown",
   "metadata": {},
   "source": [
    "# Feature scaling"
   ]
  },
  {
   "cell_type": "code",
   "execution_count": 160,
   "metadata": {},
   "outputs": [],
   "source": [
    "from sklearn.preprocessing import StandardScaler"
   ]
  },
  {
   "cell_type": "code",
   "execution_count": 161,
   "metadata": {},
   "outputs": [],
   "source": [
    "scaler = StandardScaler()\n",
    "df_scaled = scaler.fit_transform(df)"
   ]
  }
 ],
 "metadata": {
  "interpreter": {
   "hash": "3a4565eb6215a326995d9cfd00f1782ebb9ab334d122fb684360bfee2e0fdc62"
  },
  "kernelspec": {
   "display_name": "Python 3.9.5 64-bit",
   "language": "python",
   "name": "python3"
  },
  "language_info": {
   "codemirror_mode": {
    "name": "ipython",
    "version": 3
   },
   "file_extension": ".py",
   "mimetype": "text/x-python",
   "name": "python",
   "nbconvert_exporter": "python",
   "pygments_lexer": "ipython3",
   "version": "3.9.5"
  },
  "orig_nbformat": 4
 },
 "nbformat": 4,
 "nbformat_minor": 2
}
